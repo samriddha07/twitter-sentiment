{
 "cells": [
  {
   "cell_type": "code",
   "execution_count": 1,
   "id": "5930fd86",
   "metadata": {},
   "outputs": [],
   "source": [
    "import tweepy\n",
    "import numpy as np\n",
    "import pandas as pd\n",
    "from tweepy import OAuthHandler\n",
    "import matplotlib.pyplot as plt\n",
    "import seaborn as sns\n",
    "import nltk"
   ]
  },
  {
   "cell_type": "code",
   "execution_count": 2,
   "id": "cec4e5a6",
   "metadata": {},
   "outputs": [],
   "source": [
    "consumer_key = 'hRZhWltKq5rfE6pIj8TwgV7QG'\n",
    "consumer_secret = 'fGlA8NQsDKJgd6AylkAXJcByWtl63ffRy0f3icUOALn8GgthxX'\n",
    "access_token = '1381489465579855873-4DqvH0meHEA3GNDKdlh6KFlMPTklec'\n",
    "access_secret = 'HGUXfSqklXnzHc4AzxC9o9FsLWzi3frznNa4ZtLCE1XJJ'"
   ]
  },
  {
   "cell_type": "code",
   "execution_count": 3,
   "id": "b369aca5",
   "metadata": {},
   "outputs": [],
   "source": [
    "auth = tweepy.OAuthHandler(consumer_key, consumer_secret)\n",
    "auth.set_access_token(access_token, access_secret)\n",
    "api = tweepy.API(auth)\n",
    "api = tweepy.API(auth, wait_on_rate_limit=True)"
   ]
  },
  {
   "cell_type": "code",
   "execution_count": 4,
   "id": "37d77e59",
   "metadata": {},
   "outputs": [],
   "source": [
    "results=[]"
   ]
  },
  {
   "cell_type": "code",
   "execution_count": null,
   "id": "a73c3924",
   "metadata": {},
   "outputs": [
    {
     "name": "stderr",
     "output_type": "stream",
     "text": [
      "Rate limit reached. Sleeping for: 774\n"
     ]
    }
   ],
   "source": [
    "for tweet in tweepy.Cursor(api.search_tweets, q='covid', lang=\"en\").items(8000):\n",
    "    if (not tweet.retweeted) and ('RT @' not in tweet.text) and (len(tweet.text)>20):\n",
    "        results.append(tweet)\n",
    "        id = tweet.id\n",
    "print(len(results))"
   ]
  },
  {
   "cell_type": "code",
   "execution_count": null,
   "id": "ccb19dc0",
   "metadata": {},
   "outputs": [],
   "source": [
    "def process_result(results):\n",
    "    id_list = [tweet.id for tweet in results]\n",
    "    data_set = pd.DataFrame(id_list,columns = ['id'])\n",
    "    \n",
    "    # Processing Tweet Data\n",
    "    data_set[\"text\"] = [tweet.text for tweet in results] #text of tweet\n",
    "    data_set[\"created_at\"] = [tweet.created_at for tweet in results] #when the tweet was created\n",
    "    data_set[\"retweet_count\"] = [tweet.retweet_count for tweet in results] #number of retweets\n",
    "    data_set[\"favorite_count\"] = [tweet.favorite_count for tweet in results] #number of favourites\n",
    "    data_set[\"source\"] = [tweet.source for tweet in results] #source of the tweet\n",
    "    data_set[\"length\"] = [len(tweet.text) for tweet in results] #number of characters in tweet\n",
    "\n",
    "    # Processing User Data\n",
    "    data_set[\"user_id\"] = [tweet.author.id for tweet in results] #id of the author\n",
    "    data_set[\"user_screen_name\"] = [tweet.author.screen_name for tweet in results] \n",
    "    data_set[\"user_name\"] = [tweet.author.name for tweet in results]\n",
    "    data_set[\"user_created_at\"] = [tweet.author.created_at for tweet in results] #age of user account\n",
    "    data_set[\"user_description\"] = [tweet.author.description for tweet in results]\n",
    "    data_set[\"user_followers_count\"] = [tweet.author.followers_count for tweet in results] #number of followers\n",
    "    data_set[\"user_friends_count\"] = [tweet.author.friends_count for tweet in results] #number of friends\n",
    "    data_set[\"user_location\"] = [tweet.author.location for tweet in results] #user has a location in profile?\n",
    "    data_set[\"user_statuses_count\"] = [tweet.author.statuses_count for tweet in results] #number of statuses\n",
    "    data_set[\"user_verified\"] = [tweet.author.verified for tweet in results] #user is verified?\n",
    "    data_set[\"user_url\"] = [tweet.author.url for tweet in results] #user has a URL?\n",
    "\n",
    "    return data_set"
   ]
  },
  {
   "cell_type": "code",
   "execution_count": null,
   "id": "d53113ff",
   "metadata": {},
   "outputs": [],
   "source": [
    "data_set = process_result(results)"
   ]
  },
  {
   "cell_type": "code",
   "execution_count": null,
   "id": "eb509f59",
   "metadata": {},
   "outputs": [],
   "source": [
    "data_set.info()"
   ]
  },
  {
   "cell_type": "code",
   "execution_count": null,
   "id": "034afacd",
   "metadata": {},
   "outputs": [],
   "source": [
    "data_set.head()"
   ]
  },
  {
   "cell_type": "code",
   "execution_count": null,
   "id": "89414bf9",
   "metadata": {},
   "outputs": [],
   "source": [
    "sns.heatmap(data_set.isnull(), cbar=False)"
   ]
  },
  {
   "cell_type": "code",
   "execution_count": null,
   "id": "4383060c",
   "metadata": {},
   "outputs": [],
   "source": [
    "data_set['text'].head()"
   ]
  },
  {
   "cell_type": "code",
   "execution_count": null,
   "id": "c576d92b",
   "metadata": {},
   "outputs": [],
   "source": [
    "data_set.to_csv(\"covid\", index=False, encoding='utf-8')"
   ]
  },
  {
   "cell_type": "code",
   "execution_count": null,
   "id": "975052d3",
   "metadata": {},
   "outputs": [],
   "source": []
  }
 ],
 "metadata": {
  "kernelspec": {
   "display_name": "Python 3 (ipykernel)",
   "language": "python",
   "name": "python3"
  },
  "language_info": {
   "codemirror_mode": {
    "name": "ipython",
    "version": 3
   },
   "file_extension": ".py",
   "mimetype": "text/x-python",
   "name": "python",
   "nbconvert_exporter": "python",
   "pygments_lexer": "ipython3",
   "version": "3.9.7"
  }
 },
 "nbformat": 4,
 "nbformat_minor": 5
}
