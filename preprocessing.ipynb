{
 "cells": [
  {
   "cell_type": "code",
   "execution_count": 5,
   "id": "cb82dcd2",
   "metadata": {},
   "outputs": [],
   "source": [
    "import re\n",
    "import pandas as pd\n",
    "from nltk.stem.porter import PorterStemmer"
   ]
  },
  {
   "cell_type": "code",
   "execution_count": 6,
   "id": "f94a8562",
   "metadata": {},
   "outputs": [],
   "source": [
    "#file containing tweets\n",
    "df = pd.read_csv('covid')"
   ]
  },
  {
   "cell_type": "code",
   "execution_count": 7,
   "id": "10aaac03",
   "metadata": {},
   "outputs": [],
   "source": [
    "import nltk"
   ]
  },
  {
   "cell_type": "code",
   "execution_count": 8,
   "id": "977d123d",
   "metadata": {},
   "outputs": [],
   "source": [
    "#for removing puntuation marks we need to import string\n",
    "import string\n",
    "#for removing stopwords we need nltk courpus of stop words\n",
    "from nltk.corpus import stopwords"
   ]
  },
  {
   "cell_type": "code",
   "execution_count": 16,
   "id": "7e4a64de",
   "metadata": {},
   "outputs": [
    {
     "name": "stderr",
     "output_type": "stream",
     "text": [
      "[nltk_data] Downloading package stopwords to\n",
      "[nltk_data]     C:\\Users\\Stark32C\\AppData\\Roaming\\nltk_data...\n",
      "[nltk_data]   Package stopwords is already up-to-date!\n"
     ]
    },
    {
     "data": {
      "text/plain": [
       "True"
      ]
     },
     "execution_count": 16,
     "metadata": {},
     "output_type": "execute_result"
    }
   ],
   "source": [
    "nltk.download('stopwords')"
   ]
  },
  {
   "cell_type": "code",
   "execution_count": 9,
   "id": "6ee32773",
   "metadata": {},
   "outputs": [
    {
     "data": {
      "text/plain": [
       "['i',\n",
       " 'me',\n",
       " 'my',\n",
       " 'myself',\n",
       " 'we',\n",
       " 'our',\n",
       " 'ours',\n",
       " 'ourselves',\n",
       " 'you',\n",
       " \"you're\",\n",
       " \"you've\",\n",
       " \"you'll\",\n",
       " \"you'd\",\n",
       " 'your',\n",
       " 'yours',\n",
       " 'yourself',\n",
       " 'yourselves',\n",
       " 'he',\n",
       " 'him',\n",
       " 'his']"
      ]
     },
     "execution_count": 9,
     "metadata": {},
     "output_type": "execute_result"
    }
   ],
   "source": [
    "stopwords.words('english')[0:20] # Show some stop words"
   ]
  },
  {
   "cell_type": "code",
   "execution_count": 12,
   "id": "b032614d",
   "metadata": {},
   "outputs": [
    {
     "data": {
      "text/plain": [
       "0    @PMCPune @MPShivajirao @ExpressPune @PuneTimes...\n",
       "1    @thelostsoul83 @BigBearNPog @PokemonGoApp @Nia...\n",
       "2    @JasonGoalie34 @nytimes Yes there will be bad ...\n",
       "3    @JeromeAdamsMD What was he doing before COVID ...\n",
       "4    Wisconsin reported over 1,300 new COVID-19 cas...\n",
       "Name: text, dtype: object"
      ]
     },
     "execution_count": 12,
     "metadata": {},
     "output_type": "execute_result"
    }
   ],
   "source": [
    "df['text'].head()"
   ]
  },
  {
   "cell_type": "code",
   "execution_count": 26,
   "id": "3379420a",
   "metadata": {},
   "outputs": [],
   "source": [
    "import pickle \n",
    "from emot.emo_unicode import UNICODE_EMOJI # For emojis\n",
    "from emot.emo_unicode import EMOTICONS_EMO #for emote\n"
   ]
  },
  {
   "cell_type": "code",
   "execution_count": 14,
   "id": "0be8f237",
   "metadata": {},
   "outputs": [],
   "source": [
    "def is_valid_word(word):\n",
    "    # Check if word begins with an alphabet\n",
    "    return (re.search(r'^[a-zA-Z][a-z0-9A-Z\\._]*$', word) is not None)"
   ]
  },
  {
   "cell_type": "code",
   "execution_count": 15,
   "id": "e01c008d",
   "metadata": {},
   "outputs": [],
   "source": [
    "def handle_emojis(tweet):\n",
    "    # Smile -- :), : ), :-), (:, ( :, (-:, :')\n",
    "    tweet = re.sub(r'(:\\s?\\)|:-\\)|\\(\\s?:|\\(-:|:\\'\\))', ' EMO_POS ', tweet)\n",
    "    # Laugh -- :D, : D, :-D, xD, x-D, XD, X-D\n",
    "    tweet = re.sub(r'(:\\s?D|:-D|x-?D|X-?D)', ' EMO_POS ', tweet)\n",
    "    # Love -- <3, :*\n",
    "    tweet = re.sub(r'(<3|:\\*)', ' EMO_POS ', tweet)\n",
    "    # Wink -- ;-), ;), ;-D, ;D, (;,  (-;\n",
    "    tweet = re.sub(r'(;-?\\)|;-?D|\\(-?;)', ' EMO_POS ', tweet)\n",
    "    # Sad -- :-(, : (, :(, ):, )-:\n",
    "    tweet = re.sub(r'(:\\s?\\(|:-\\(|\\)\\s?:|\\)-:)', ' EMO_NEG ', tweet)\n",
    "    # Cry -- :,(, :'(, :\"(\n",
    "    tweet = re.sub(r'(:,\\(|:\\'\\(|:\"\\()', ' EMO_NEG ', tweet)\n",
    "    return tweet"
   ]
  },
  {
   "cell_type": "code",
   "execution_count": 32,
   "id": "0982b1c8",
   "metadata": {},
   "outputs": [],
   "source": [
    "def convert_emojis(text):\n",
    "    for emot in UNICODE_EMOJI:\n",
    "        text = text.replace(emot, \" \".join(UNICODE_EMOJI[emot].replace(\",\",\"\").replace(\":\",\"\").split()))\n",
    "    return text"
   ]
  },
  {
   "cell_type": "code",
   "execution_count": 33,
   "id": "85023e71",
   "metadata": {},
   "outputs": [],
   "source": [
    "#for pre processing\n",
    "def text_process(tweet):\n",
    "    \n",
    "    #converting tweets into lowercase\n",
    "    tweet=tweet.lower()\n",
    "    \n",
    "    #checking for valid word\n",
    "    for i in tweet:\n",
    "        i= is_valid_word(i)\n",
    "        \n",
    "    #handle emoji\n",
    "    tweet=handle_emojis(tweet)\n",
    "    \n",
    "    #converting graphical emojis into words\n",
    "    tweet=convert_emojis(tweet)\n",
    "    \n",
    "    # Replaces URLs with space\n",
    "    tweet = re.sub(r'((www\\.[\\S]+)|(https?://[\\S]+))', ' ', tweet)\n",
    "    \n",
    "    # Replace @handle with space\n",
    "    tweet = re.sub(r'@[\\S]+', '', tweet)\n",
    "    \n",
    "    # Replaces #hashtag with space\n",
    "    tweet = re.sub(r'#[\\S]+', '', tweet)\n",
    "    \n",
    "    # Replace multiple spaces with a single space\n",
    "    tweet = re.sub(r'\\s+', ' ', tweet)\n",
    "\n",
    "    # Check characters to see if they have punctuation\n",
    "    nopunc = [char for char in tweet if char not in string.punctuation]\n",
    "\n",
    "    # Join the characters again to form the string.\n",
    "    nopunc = ''.join(nopunc)\n",
    "    \n",
    "    # Now just remove any stopwords\n",
    "    result = [word for word in nopunc.split() if word.lower() not in stopwords.words('english')]\n",
    "    return(' '.join(result))\n",
    "\n"
   ]
  },
  {
   "cell_type": "code",
   "execution_count": 34,
   "id": "cf05e449",
   "metadata": {},
   "outputs": [],
   "source": [
    "mess = df['text'].apply(text_process)"
   ]
  },
  {
   "cell_type": "code",
   "execution_count": 35,
   "id": "4ba241a0",
   "metadata": {},
   "outputs": [
    {
     "data": {
      "text/plain": [
       "0                                       pl arrange fr…\n",
       "1                 covid i’d like 6 hours please alter…\n",
       "2    yes bad covid seasons going forward treat viru...\n",
       "3        covid avoid flu respiratory illnesses want t…\n",
       "4    wisconsin reported 1300 new covid19 cases 2nd ...\n",
       "Name: text, dtype: object"
      ]
     },
     "execution_count": 35,
     "metadata": {},
     "output_type": "execute_result"
    }
   ],
   "source": [
    "mess.head()"
   ]
  },
  {
   "cell_type": "code",
   "execution_count": 36,
   "id": "b0b98e4f",
   "metadata": {},
   "outputs": [],
   "source": [
    "from textblob import TextBlob"
   ]
  },
  {
   "cell_type": "code",
   "execution_count": 37,
   "id": "14a775f9",
   "metadata": {},
   "outputs": [],
   "source": [
    "def sentiment_gen(twee):\n",
    "    pol = TextBlob(twee)\n",
    "    if pol.sentiment.polarity > 0:\n",
    "        return 'positive'\n",
    "    elif pol.sentiment.polarity == 0: \n",
    "        return 'neutral'\n",
    "    else: \n",
    "        return 'negative'"
   ]
  },
  {
   "cell_type": "code",
   "execution_count": 38,
   "id": "98c5c76e",
   "metadata": {},
   "outputs": [],
   "source": [
    "sen = []\n",
    "for i in df.text: \n",
    "    sen.append(sentiment_gen(str(i)))"
   ]
  },
  {
   "cell_type": "code",
   "execution_count": 39,
   "id": "cfa41853",
   "metadata": {},
   "outputs": [],
   "source": [
    "import matplotlib.pyplot as plt"
   ]
  },
  {
   "cell_type": "code",
   "execution_count": 40,
   "id": "05d79a48",
   "metadata": {},
   "outputs": [],
   "source": [
    "new_df = pd.DataFrame(mess,columns=['Text'])"
   ]
  },
  {
   "cell_type": "code",
   "execution_count": 41,
   "id": "b937a2e0",
   "metadata": {},
   "outputs": [],
   "source": [
    "new_df['Text'] = mess\n",
    "new_df['Sentiments'] = sen"
   ]
  },
  {
   "cell_type": "code",
   "execution_count": 42,
   "id": "94573251",
   "metadata": {},
   "outputs": [
    {
     "data": {
      "text/html": [
       "<div>\n",
       "<style scoped>\n",
       "    .dataframe tbody tr th:only-of-type {\n",
       "        vertical-align: middle;\n",
       "    }\n",
       "\n",
       "    .dataframe tbody tr th {\n",
       "        vertical-align: top;\n",
       "    }\n",
       "\n",
       "    .dataframe thead th {\n",
       "        text-align: right;\n",
       "    }\n",
       "</style>\n",
       "<table border=\"1\" class=\"dataframe\">\n",
       "  <thead>\n",
       "    <tr style=\"text-align: right;\">\n",
       "      <th></th>\n",
       "      <th>Text</th>\n",
       "      <th>Sentiments</th>\n",
       "    </tr>\n",
       "  </thead>\n",
       "  <tbody>\n",
       "    <tr>\n",
       "      <th>0</th>\n",
       "      <td>pl arrange fr…</td>\n",
       "      <td>neutral</td>\n",
       "    </tr>\n",
       "    <tr>\n",
       "      <th>1</th>\n",
       "      <td>covid i’d like 6 hours please alter…</td>\n",
       "      <td>neutral</td>\n",
       "    </tr>\n",
       "    <tr>\n",
       "      <th>2</th>\n",
       "      <td>yes bad covid seasons going forward treat viru...</td>\n",
       "      <td>negative</td>\n",
       "    </tr>\n",
       "    <tr>\n",
       "      <th>3</th>\n",
       "      <td>covid avoid flu respiratory illnesses want t…</td>\n",
       "      <td>negative</td>\n",
       "    </tr>\n",
       "    <tr>\n",
       "      <th>4</th>\n",
       "      <td>wisconsin reported 1300 new covid19 cases 2nd ...</td>\n",
       "      <td>positive</td>\n",
       "    </tr>\n",
       "  </tbody>\n",
       "</table>\n",
       "</div>"
      ],
      "text/plain": [
       "                                                Text Sentiments\n",
       "0                                     pl arrange fr…    neutral\n",
       "1               covid i’d like 6 hours please alter…    neutral\n",
       "2  yes bad covid seasons going forward treat viru...   negative\n",
       "3      covid avoid flu respiratory illnesses want t…   negative\n",
       "4  wisconsin reported 1300 new covid19 cases 2nd ...   positive"
      ]
     },
     "execution_count": 42,
     "metadata": {},
     "output_type": "execute_result"
    }
   ],
   "source": [
    "new_df.head()"
   ]
  },
  {
   "cell_type": "code",
   "execution_count": 43,
   "id": "887ed4b9",
   "metadata": {},
   "outputs": [],
   "source": [
    "new_df.to_csv(\"Processed_tweets\", index=False, encoding='utf-8')"
   ]
  },
  {
   "cell_type": "code",
   "execution_count": 44,
   "id": "7709a638",
   "metadata": {},
   "outputs": [],
   "source": [
    "val= new_df.groupby('Sentiments').count()"
   ]
  },
  {
   "cell_type": "code",
   "execution_count": 45,
   "id": "0d6268bd",
   "metadata": {},
   "outputs": [],
   "source": [
    "neg,neu,pos = val['Text'][0],val['Text'][1],val['Text'][2]"
   ]
  },
  {
   "cell_type": "code",
   "execution_count": 46,
   "id": "18121280",
   "metadata": {},
   "outputs": [
    {
     "data": {
      "image/png": "[encoded data removed]",
      "text/plain": [
       "<Figure size 432x288 with 1 Axes>"
      ]
     },
     "metadata": {},
     "output_type": "display_data"
    }
   ],
   "source": [
    "import matplotlib.pyplot as plt\n",
    "\n",
    "# Pie chart, where the slices will be ordered and plotted counter-clockwise:\n",
    "labels = 'Negative', 'Neutral', 'Positive'\n",
    "sizes = [neg,neu,pos]\n",
    "explode = (0.1, 0.1, 0.1)  # only \"explode\" the 2nd slice (i.e. 'neutral')\n",
    "\n",
    "fig1, ax1 = plt.subplots()\n",
    "ax1.pie(sizes, explode=explode, labels=labels, autopct='%1.1f%%',shadow=True, startangle=90)\n",
    "ax1.axis('equal')  # Equal aspect ratio ensures that pie is drawn as a circle.\n",
    "\n",
    "plt.show()"
   ]
  },
  {
   "cell_type": "code",
   "execution_count": null,
   "id": "288b8bb1",
   "metadata": {},
   "outputs": [],
   "source": []
  }
 ],
 "metadata": {
  "kernelspec": {
   "display_name": "Python 3 (ipykernel)",
   "language": "python",
   "name": "python3"
  },
  "language_info": {
   "codemirror_mode": {
    "name": "ipython",
    "version": 3
   },
   "file_extension": ".py",
   "mimetype": "text/x-python",
   "name": "python",
   "nbconvert_exporter": "python",
   "pygments_lexer": "ipython3",
   "version": "3.9.7"
  }
 },
 "nbformat": 4,
 "nbformat_minor": 5
}
